{
 "cells": [
  {
   "cell_type": "code",
   "execution_count": 1,
   "id": "d9ee11c0",
   "metadata": {},
   "outputs": [],
   "source": [
    "%matplotlib inline"
   ]
  },
  {
   "cell_type": "code",
   "execution_count": 2,
   "id": "299ba446",
   "metadata": {},
   "outputs": [],
   "source": [
    "import numpy as np\n",
    "import pandas as pd\n",
    "import matplotlib.pyplot as plt\n",
    "\n",
    "from sklearn.datasets import load_boston\n",
    "from sklearn.linear_model import LinearRegression\n",
    "from sklearn.metrics import r2_score"
   ]
  },
  {
   "cell_type": "markdown",
   "id": "c4fc7c97",
   "metadata": {},
   "source": [
    "<h1>Regression Models Quiz</h1>"
   ]
  },
  {
   "cell_type": "markdown",
   "id": "9c45befe",
   "metadata": {},
   "source": [
    "<h3>Linear Regression Functions</h3>\n",
    "\n",
    "When building the linear regression model, we came across several new functions. One of these functions is shown below. What is the name of this function?\n",
    "\n",
    "Answer: Cost function"
   ]
  },
  {
   "cell_type": "markdown",
   "id": "795d74df",
   "metadata": {},
   "source": [
    "<h3>Income</h3>\n",
    "\n",
    "<h5>Part 1</h5>\n",
    "\n",
    "We have collected data from an ice cream shop. We modelled the income as a function of the outside temperature (shown below). Which of the following is / are true, based on this research only?\n",
    "\n",
    "Answer: We can see that decreasing temperature decreases ice-cream sales.\n",
    "\n",
    "<h5>Part 2</h5>\n",
    "\n",
    "In some cases we need to augment (extend) the model to return valid results. What income (in dollars) will our current model predict when the temperature is 1.2 degrees? Round your answer to 2 decimal places."
   ]
  },
  {
   "cell_type": "code",
   "execution_count": 3,
   "id": "de1539d7",
   "metadata": {},
   "outputs": [
    {
     "name": "stdout",
     "output_type": "stream",
     "text": [
      "-5.31\n"
     ]
    }
   ],
   "source": [
    "temp = 1.2\n",
    "income = (20.67449411 * temp) - 30.12047857\n",
    "print(f'{income:.2f}')"
   ]
  },
  {
   "cell_type": "markdown",
   "id": "68761efd",
   "metadata": {},
   "source": [
    "<h5>Part 3</h5>\n",
    "\n",
    "The specification tells that \"income\" is defined as being non-negative. The model does not account for operational costs or anything like that. We need to return a valid value based on our specification. What income (in dollars) should an augmented model predict for T = 1.2 deg C? Round your answer to 2 decimal places.\n",
    "\n",
    "Answer: if the outcome is negative we can show 0 as result."
   ]
  },
  {
   "cell_type": "markdown",
   "id": "e1980a9f",
   "metadata": {},
   "source": [
    "<h3>Local Minima</h3>\n",
    "\n",
    "When performing gradient descent on a linear regression, the choice of starting point is really important. If we choose a starting point which is far away from the global minimum of the error function, we can get stuck in a local minimum.\n",
    "\n",
    "Answer: In linear regression we have only one minimum. The sentence above is False."
   ]
  },
  {
   "cell_type": "markdown",
   "id": "d4bc50a0",
   "metadata": {},
   "source": [
    "<h3>Multiple Regression</h3>\n",
    "\n",
    "<h5>Part 1</h5>\n",
    "\n",
    "As we already saw, we can do linear regression on many variables. The Boston housing dataset is really famous and is often used for this purpose. You can download it online or - better - load it using scikit-learn (look up how). Note: This dataset is cleaned and prepared for modelling. If you want to download the original one and prepare it yourself, you're in for quite a challenge :). Now, Perform linear regression on all features. What is the coefficient related to the number of rooms? Round your answer to two decimal places."
   ]
  },
  {
   "cell_type": "code",
   "execution_count": 4,
   "id": "ccadde0e",
   "metadata": {},
   "outputs": [
    {
     "name": "stdout",
     "output_type": "stream",
     "text": [
      ".. _boston_dataset:\n",
      "\n",
      "Boston house prices dataset\n",
      "---------------------------\n",
      "\n",
      "**Data Set Characteristics:**  \n",
      "\n",
      "    :Number of Instances: 506 \n",
      "\n",
      "    :Number of Attributes: 13 numeric/categorical predictive. Median Value (attribute 14) is usually the target.\n",
      "\n",
      "    :Attribute Information (in order):\n",
      "        - CRIM     per capita crime rate by town\n",
      "        - ZN       proportion of residential land zoned for lots over 25,000 sq.ft.\n",
      "        - INDUS    proportion of non-retail business acres per town\n",
      "        - CHAS     Charles River dummy variable (= 1 if tract bounds river; 0 otherwise)\n",
      "        - NOX      nitric oxides concentration (parts per 10 million)\n",
      "        - RM       average number of rooms per dwelling\n",
      "        - AGE      proportion of owner-occupied units built prior to 1940\n",
      "        - DIS      weighted distances to five Boston employment centres\n",
      "        - RAD      index of accessibility to radial highways\n",
      "        - TAX      full-value property-tax rate per $10,000\n",
      "        - PTRATIO  pupil-teacher ratio by town\n",
      "        - B        1000(Bk - 0.63)^2 where Bk is the proportion of black people by town\n",
      "        - LSTAT    % lower status of the population\n",
      "        - MEDV     Median value of owner-occupied homes in $1000's\n",
      "\n",
      "    :Missing Attribute Values: None\n",
      "\n",
      "    :Creator: Harrison, D. and Rubinfeld, D.L.\n",
      "\n",
      "This is a copy of UCI ML housing dataset.\n",
      "https://archive.ics.uci.edu/ml/machine-learning-databases/housing/\n",
      "\n",
      "\n",
      "This dataset was taken from the StatLib library which is maintained at Carnegie Mellon University.\n",
      "\n",
      "The Boston house-price data of Harrison, D. and Rubinfeld, D.L. 'Hedonic\n",
      "prices and the demand for clean air', J. Environ. Economics & Management,\n",
      "vol.5, 81-102, 1978.   Used in Belsley, Kuh & Welsch, 'Regression diagnostics\n",
      "...', Wiley, 1980.   N.B. Various transformations are used in the table on\n",
      "pages 244-261 of the latter.\n",
      "\n",
      "The Boston house-price data has been used in many machine learning papers that address regression\n",
      "problems.   \n",
      "     \n",
      ".. topic:: References\n",
      "\n",
      "   - Belsley, Kuh & Welsch, 'Regression diagnostics: Identifying Influential Data and Sources of Collinearity', Wiley, 1980. 244-261.\n",
      "   - Quinlan,R. (1993). Combining Instance-Based and Model-Based Learning. In Proceedings on the Tenth International Conference of Machine Learning, 236-243, University of Massachusetts, Amherst. Morgan Kaufmann.\n",
      "\n"
     ]
    }
   ],
   "source": [
    "boston_data = load_boston()\n",
    "print(boston_data.DESCR)"
   ]
  },
  {
   "cell_type": "code",
   "execution_count": 5,
   "id": "314087ea",
   "metadata": {},
   "outputs": [
    {
     "name": "stdout",
     "output_type": "stream",
     "text": [
      "3.81\n"
     ]
    }
   ],
   "source": [
    "model = LinearRegression()\n",
    "model.fit(boston_data.data, boston_data.target)\n",
    "print(f'{model.coef_[5]:.2f}')"
   ]
  },
  {
   "cell_type": "markdown",
   "id": "33a99c76",
   "metadata": {},
   "source": [
    "<h5>Part 2</h5>\n",
    "\n",
    "What is the price of a hypothetical house with all variables set to zero? Round your answer to two decimal places."
   ]
  },
  {
   "cell_type": "code",
   "execution_count": 6,
   "id": "2e038b92",
   "metadata": {},
   "outputs": [
    {
     "name": "stdout",
     "output_type": "stream",
     "text": [
      "36.46\n"
     ]
    }
   ],
   "source": [
    "print(f'{model.intercept_:.2f}')"
   ]
  },
  {
   "cell_type": "markdown",
   "id": "bef80518",
   "metadata": {},
   "source": [
    "<h5>Part 3</h5>\n",
    "\n",
    "It's good to have a model of the data but it means nothing if we have no way of testing it. A way to test regression algorithms involves the so-called \"coefficient of determination\" (R^2). Research how to compute it and apply it to the regression model you just created. What is the coefficient of determination for this model? Round your answer to two decimal places. (Note: Compute the coefficient of determination using all the data. Technically, this is not correct but at least gives a good idea of how this model performs. If you're more interested, look up \"training and testing set\".)"
   ]
  },
  {
   "cell_type": "code",
   "execution_count": 7,
   "id": "000ceb24",
   "metadata": {},
   "outputs": [
    {
     "name": "stdout",
     "output_type": "stream",
     "text": [
      "0.74\n"
     ]
    }
   ],
   "source": [
    "predicted_data = model.predict(boston_data.data)\n",
    "coefficient_of_determination = r2_score(boston_data.target, predicted_data)\n",
    "print(f'{coefficient_of_determination:.2f}')"
   ]
  }
 ],
 "metadata": {
  "kernelspec": {
   "display_name": "Python 3",
   "language": "python",
   "name": "python3"
  },
  "language_info": {
   "codemirror_mode": {
    "name": "ipython",
    "version": 3
   },
   "file_extension": ".py",
   "mimetype": "text/x-python",
   "name": "python",
   "nbconvert_exporter": "python",
   "pygments_lexer": "ipython3",
   "version": "3.8.8"
  }
 },
 "nbformat": 4,
 "nbformat_minor": 5
}
