{
 "cells": [
  {
   "cell_type": "code",
   "execution_count": 1,
   "id": "13e0160b",
   "metadata": {},
   "outputs": [],
   "source": [
    "import numpy as np"
   ]
  },
  {
   "cell_type": "markdown",
   "id": "cbf49c7c",
   "metadata": {},
   "source": [
    "<h1>Data Science Project Architecture Quiz</h1>"
   ]
  },
  {
   "cell_type": "markdown",
   "id": "02aacc85",
   "metadata": {},
   "source": [
    "<h3>Naming</h3>\n",
    "\n",
    "Which convention is typically used in Python for local variable names?\n",
    "\n",
    "Answer: snake_case"
   ]
  },
  {
   "cell_type": "markdown",
   "id": "35338835",
   "metadata": {},
   "source": [
    "<h3>OOP Basics</h3>\n",
    "\n",
    "If you create a Python class, you will probably need a constructor. What is the method signature of a constructor with no arguments in Python? Hint: Try it yourself and copy the answer directly.\n",
    "\n",
    "Answer: def __init__(self)"
   ]
  },
  {
   "cell_type": "markdown",
   "id": "0fe8db7d",
   "metadata": {},
   "source": [
    "<h3>Function Calls</h3>\n",
    "\n",
    "When we perform a function call, the Python interpreter saves \"the current state\" (called an \"environment\" in technical terms) in a specific data structure. What is this structure called?\n",
    "\n",
    "Answer: Call Stack"
   ]
  },
  {
   "cell_type": "markdown",
   "id": "9b162989",
   "metadata": {},
   "source": [
    "<h3>Cohesion and Coupling</h3>\n",
    "\n",
    "Imagine you write some code. A colleague leaves a written code review. As part of the review, they state that \"your code demonstrates strong cohesion and loose coupling\". Is that good or bad?\n",
    "\n",
    "Answer: Good"
   ]
  },
  {
   "cell_type": "markdown",
   "id": "3bc3931b",
   "metadata": {},
   "source": [
    "<h3>Unit Testing</h3>\n",
    "\n",
    "Which of the following describes unit testing best?\n",
    "\n",
    "Answer: Testing a single function, method or class."
   ]
  },
  {
   "cell_type": "markdown",
   "id": "9a731865",
   "metadata": {},
   "source": [
    "<h3>Vectorization</h3>\n",
    "\n",
    "Suppose you have a matrix A and a vector x, defined below. To find the product Ax, you can use the multiply() function. You, however, want to use its vectorized form. First, you convert A and x to numpy arrays. Which of the following will give you the same result as the multiply() function?"
   ]
  },
  {
   "cell_type": "code",
   "execution_count": 2,
   "id": "f7a7ca59",
   "metadata": {},
   "outputs": [],
   "source": [
    "A = [\n",
    "    [1, 1, 1],\n",
    "    [0, 2, 5],\n",
    "    [2, 5, -1]\n",
    "]\n",
    "\n",
    "x = [\n",
    "    [5],\n",
    "    [3],\n",
    "    [-2]\n",
    "]"
   ]
  },
  {
   "cell_type": "code",
   "execution_count": 3,
   "id": "fdb8d1c9",
   "metadata": {},
   "outputs": [],
   "source": [
    "def multiply(A, x):\n",
    "    '''Multiplies the matrix A by the column vector x'''\n",
    "    assert len(A[0]) == len(x)\n",
    "    result = [[0] for i in range(len(A))]\n",
    "    for i in range(len(A)):\n",
    "        for j in range(len(A[i])):\n",
    "            result[i][0] = result[i][0] + (A[i][j] * x[j][0])\n",
    "    return result"
   ]
  },
  {
   "cell_type": "code",
   "execution_count": 4,
   "id": "e472bd3b",
   "metadata": {},
   "outputs": [
    {
     "data": {
      "text/plain": [
       "[[6], [-4], [27]]"
      ]
     },
     "execution_count": 4,
     "metadata": {},
     "output_type": "execute_result"
    }
   ],
   "source": [
    "multiply(A, x)"
   ]
  },
  {
   "cell_type": "code",
   "execution_count": 5,
   "id": "6556113e",
   "metadata": {},
   "outputs": [],
   "source": [
    "A_np_array = np.array(A)\n",
    "x_np_array = np.array(x)"
   ]
  },
  {
   "cell_type": "code",
   "execution_count": 6,
   "id": "3c03a9bd",
   "metadata": {},
   "outputs": [
    {
     "data": {
      "text/plain": [
       "array([[ 6],\n",
       "       [-4],\n",
       "       [27]])"
      ]
     },
     "execution_count": 6,
     "metadata": {},
     "output_type": "execute_result"
    }
   ],
   "source": [
    "np.dot(A, x)"
   ]
  }
 ],
 "metadata": {
  "kernelspec": {
   "display_name": "Python 3",
   "language": "python",
   "name": "python3"
  },
  "language_info": {
   "codemirror_mode": {
    "name": "ipython",
    "version": 3
   },
   "file_extension": ".py",
   "mimetype": "text/x-python",
   "name": "python",
   "nbconvert_exporter": "python",
   "pygments_lexer": "ipython3",
   "version": "3.8.8"
  }
 },
 "nbformat": 4,
 "nbformat_minor": 5
}
